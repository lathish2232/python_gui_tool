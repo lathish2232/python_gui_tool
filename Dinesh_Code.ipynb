{
 "cells": [
  {
   "cell_type": "code",
   "execution_count": 2,
   "metadata": {},
   "outputs": [],
   "source": [
    "import pandas as pd\n",
    "import os\n",
    "import sys\n",
    "from datetime import datetime"
   ]
  },
  {
   "cell_type": "code",
   "execution_count": 3,
   "metadata": {},
   "outputs": [],
   "source": [
    "# Creating the metadata dictionary\n",
    "obj_dir = r\"C:\\Users\\rsannanagari\\Documents\\personal files\\abid\\dim_files\"\n",
    "obj_file= os.listdir(obj_dir)\n",
    "obj_dictmap = {'key':'value'}\n",
    "obj_trgfile ={}\n",
    "df = pd.DataFrame()\n",
    "obj_lst=list()"
   ]
  },
  {
   "cell_type": "code",
   "execution_count": 4,
   "metadata": {},
   "outputs": [
    {
     "data": {
      "text/plain": [
       "'C:\\\\Users\\\\rsannanagari\\\\Documents\\\\personal files\\\\abid\\\\dim_files'"
      ]
     },
     "execution_count": 4,
     "metadata": {},
     "output_type": "execute_result"
    }
   ],
   "source": [
    "obj_dir"
   ]
  },
  {
   "cell_type": "code",
   "execution_count": 5,
   "metadata": {},
   "outputs": [],
   "source": [
    "for ifile,files in enumerate(obj_file):\n",
    "    obj_mbrs = pd.Series(data=(pd.read_csv(obj_dir+'\\\\'+files,delimiter=',',usecols=[0],squeeze=True))).drop_duplicates()\n",
    "\n",
    "    # Creating dictionary\n",
    "    for i,ele in enumerate(obj_mbrs):\n",
    "        obj_dictmap[ele]=ifile"
   ]
  },
  {
   "cell_type": "code",
   "execution_count": 6,
   "metadata": {},
   "outputs": [],
   "source": [
    "# print(datetime.now())\n",
    "\n",
    "datafile = r\"C:\\Users\\rsannanagari\\Documents\\personal files\\abid\\input_files\\Vis.txt\"\n",
    "dcol =len(obj_file)\n",
    "\n",
    "with open(datafile,buffering=300000) as f:\n",
    "    for line in f:\n",
    "        line = line.strip().split()\n",
    "        for each in line:\n",
    "            each = each.strip('\"')\n",
    "            if each in obj_dictmap:\n",
    "                obj_trgfile.pop(obj_dictmap[each],None)\n",
    "                row = (obj_dictmap[each], str(each))\n",
    "                obj_trgfile[obj_dictmap[each]]=each\n",
    "            else:\n",
    "                obj_trgfile[dcol]=each\n",
    "\n",
    "\n",
    "        #line = ','.join(str(obj_trgfile[x]) for x in sorted(obj_trgfile))\n",
    "        line=[str(obj_trgfile[x]) for x in sorted(obj_trgfile)]\n",
    "        #print(line)\n",
    "        obj_lst.append(line)\n",
    "        #w.write('\\n'+line)"
   ]
  },
  {
   "cell_type": "code",
   "execution_count": 7,
   "metadata": {},
   "outputs": [
    {
     "data": {
      "text/plain": [
       "['Period', 'Year', 'Total']"
      ]
     },
     "execution_count": 7,
     "metadata": {},
     "output_type": "execute_result"
    }
   ],
   "source": [
    "obj_lst[0]"
   ]
  },
  {
   "cell_type": "code",
   "execution_count": null,
   "metadata": {},
   "outputs": [],
   "source": []
  }
 ],
 "metadata": {
  "kernelspec": {
   "display_name": "Python 3",
   "language": "python",
   "name": "python3"
  },
  "language_info": {
   "codemirror_mode": {
    "name": "ipython",
    "version": 3
   },
   "file_extension": ".py",
   "mimetype": "text/x-python",
   "name": "python",
   "nbconvert_exporter": "python",
   "pygments_lexer": "ipython3",
   "version": "3.8.5"
  }
 },
 "nbformat": 4,
 "nbformat_minor": 4
}
